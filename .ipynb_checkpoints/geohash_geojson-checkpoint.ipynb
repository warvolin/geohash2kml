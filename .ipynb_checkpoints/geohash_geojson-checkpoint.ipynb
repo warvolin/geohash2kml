{
 "cells": [
  {
   "cell_type": "markdown",
   "metadata": {},
   "source": [
    "# Creating a grid based on GeoHashes\n",
    "https://blog.tafkas.net/2018/09/28/creating-a-grid-based-on-geohashes/"
   ]
  },
  {
   "cell_type": "code",
   "execution_count": 11,
   "metadata": {
    "ExecuteTime": {
     "end_time": "2019-01-08T18:20:02.711707Z",
     "start_time": "2019-01-08T18:20:02.699683Z"
    }
   },
   "outputs": [],
   "source": [
    "import geohash\n",
    "\n",
    "precision=7\n",
    "\n",
    "def is_geohash_in_bounding_box(current_geohash, bbox_coordinates):\n",
    "    \"\"\"Checks if the box of a geohash is inside the bounding box\n",
    "\n",
    "    :param current_geohash: a geohash\n",
    "    :param bbox_coordinates: bounding box coordinates\n",
    "    :return: true if the the center of the geohash is in the bounding box\n",
    "    \"\"\"\n",
    "\n",
    "    coordinates = geohash.decode(current_geohash)\n",
    "    geohash_in_bounding_box = (bbox_coordinates[0] < coordinates[0] < bbox_coordinates[2]) and (\n",
    "            bbox_coordinates[1] < coordinates[1] < bbox_coordinates[3])\n",
    "    return geohash_in_bounding_box\n",
    "\n",
    "def build_geohash_box(current_geohash):\n",
    "    \"\"\"Returns a GeoJSON Polygon for a given geohash\n",
    "\n",
    "    :param current_geohash: a geohash\n",
    "    :return: a list representation of th polygon\n",
    "    \"\"\"\n",
    "\n",
    "    b = geohash.bbox(current_geohash)\n",
    "    \n",
    "    polygon = {}\n",
    "    polygon['type'] = 'Feature'\n",
    "    polygon = []\n",
    "    polygon['coordinates'] = [(b['w'], b['s']), (b['w'], b['n']), (b['e'], b['n']), (b['e'], b['s'],), (b['w'], b['s'])]\n",
    "    polygon['type'] = \"Polygon\"\n",
    "    return polygon\n",
    "\n",
    "def compute_geohash_tiles(bbox_coordinates, precision):\n",
    "    \"\"\"Computes all geohash tile in the given bounding box\n",
    "\n",
    "    :param bbox_coordinates: the bounding box coordinates of the geohashes\n",
    "    :return: a list of geohashes\n",
    "    \"\"\"\n",
    "\n",
    "    checked_geohashes = set()\n",
    "    geohash_stack = set()\n",
    "    geohashes = []\n",
    "    # get center of bounding box, assuming the earth is flat ;)\n",
    "    center_latitude = (bbox_coordinates[0] + bbox_coordinates[2]) / 2\n",
    "    center_longitude = (bbox_coordinates[1] + bbox_coordinates[3]) / 2\n",
    "\n",
    "    center_geohash = geohash.encode(center_latitude, center_longitude, precision=precision)\n",
    "    geohashes.append(center_geohash)\n",
    "    geohash_stack.add(center_geohash)\n",
    "    checked_geohashes.add(center_geohash)\n",
    "    while len(geohash_stack) > 0:\n",
    "        current_geohash = geohash_stack.pop()\n",
    "        neighbors = geohash.neighbors(current_geohash)\n",
    "        for neighbor in neighbors:\n",
    "            if neighbor not in checked_geohashes and is_geohash_in_bounding_box(neighbor, bbox_coordinates):\n",
    "                geohashes.append(neighbor)\n",
    "                geohash_stack.add(neighbor)\n",
    "                checked_geohashes.add(neighbor)\n",
    "    return geohashes"
   ]
  },
  {
   "cell_type": "code",
   "execution_count": 38,
   "metadata": {
    "ExecuteTime": {
     "end_time": "2019-01-08T19:09:19.439362Z",
     "start_time": "2019-01-08T19:09:19.434987Z"
    }
   },
   "outputs": [],
   "source": [
    "import geojson\n",
    "from geojson import MultiLineString\n",
    "from geojson import MultiPolygon\n",
    "geojson.Fe\n",
    "\n",
    "def write_geohash_layer(geohashes):\n",
    "    \"\"\"Writes a grid layer based on the geohashes\n",
    "\n",
    "    :param geohashes: a list of geohashes\n",
    "    \"\"\"\n",
    "    \n",
    "    layer = MultiPolygon([build_geohash_box(gh) for gh in geohashes])\n",
    "    with open('ghash_berlin_bbox.json', 'wb') as f:\n",
    "        f.write(geojson.dumps(layer, sort_keys=True).encode('utf-8'))"
   ]
  },
  {
   "cell_type": "code",
   "execution_count": 39,
   "metadata": {
    "ExecuteTime": {
     "end_time": "2019-01-08T19:09:26.125654Z",
     "start_time": "2019-01-08T19:09:26.115920Z"
    }
   },
   "outputs": [],
   "source": [
    "x = compute_geohash_tiles([52.338261, 13.08835,52.67551, 13.76116], precision=5)"
   ]
  },
  {
   "cell_type": "code",
   "execution_count": 40,
   "metadata": {
    "ExecuteTime": {
     "end_time": "2019-01-08T19:09:26.477304Z",
     "start_time": "2019-01-08T19:09:26.473585Z"
    }
   },
   "outputs": [
    {
     "data": {
      "text/plain": [
       "120"
      ]
     },
     "execution_count": 40,
     "metadata": {},
     "output_type": "execute_result"
    }
   ],
   "source": [
    "len(x)"
   ]
  },
  {
   "cell_type": "code",
   "execution_count": 43,
   "metadata": {
    "ExecuteTime": {
     "end_time": "2019-01-08T19:45:05.791851Z",
     "start_time": "2019-01-08T19:45:05.787200Z"
    }
   },
   "outputs": [
    {
     "data": {
      "text/plain": [
       "{'s': 44.9560546875, 'w': -94.2626953125, 'n': 45.0, 'e': -94.21875}"
      ]
     },
     "execution_count": 43,
     "metadata": {},
     "output_type": "execute_result"
    }
   ],
   "source": [
    "b = geohash.bbox('9zuzz')\n",
    "b"
   ]
  },
  {
   "cell_type": "code",
   "execution_count": 56,
   "metadata": {
    "ExecuteTime": {
     "end_time": "2019-01-08T20:06:13.724739Z",
     "start_time": "2019-01-08T20:06:13.719885Z"
    }
   },
   "outputs": [
    {
     "data": {
      "text/plain": [
       "{'type': 'Feature',\n",
       " 'properties': {'name': 'current_geohash', 'Device Count': 'devicecount'}}"
      ]
     },
     "execution_count": 56,
     "metadata": {},
     "output_type": "execute_result"
    }
   ],
   "source": [
    "polygon = {}\n",
    "polygon['type'] = 'Feature'\n",
    "polygon['properties'] = {\"name\": \"current_geohash\", \"Device Count\": \"devicecount\"}\n",
    "polygon"
   ]
  },
  {
   "cell_type": "code",
   "execution_count": 46,
   "metadata": {
    "ExecuteTime": {
     "end_time": "2019-01-08T19:51:47.824912Z",
     "start_time": "2019-01-08T19:51:47.820553Z"
    }
   },
   "outputs": [
    {
     "data": {
      "text/plain": [
       "geojson.feature.FeatureCollection"
      ]
     },
     "execution_count": 46,
     "metadata": {},
     "output_type": "execute_result"
    }
   ],
   "source": [
    "geojson.FeatureCollection()"
   ]
  },
  {
   "cell_type": "code",
   "execution_count": 41,
   "metadata": {
    "ExecuteTime": {
     "end_time": "2019-01-08T19:09:26.826648Z",
     "start_time": "2019-01-08T19:09:26.819574Z"
    }
   },
   "outputs": [],
   "source": [
    "write_geohash_layer(x)"
   ]
  },
  {
   "cell_type": "code",
   "execution_count": 32,
   "metadata": {
    "ExecuteTime": {
     "end_time": "2019-01-08T19:05:19.827341Z",
     "start_time": "2019-01-08T19:05:18.027410Z"
    }
   },
   "outputs": [],
   "source": [
    "import pandas as pd\n",
    "\n",
    "counts = pd.read_table('setagaya_geohash8_6mo_counts.tsv', header=None)"
   ]
  },
  {
   "cell_type": "code",
   "execution_count": 54,
   "metadata": {
    "ExecuteTime": {
     "end_time": "2019-01-08T20:05:07.130589Z",
     "start_time": "2019-01-08T20:05:07.123042Z"
    }
   },
   "outputs": [
    {
     "data": {
      "text/html": [
       "<div>\n",
       "<style scoped>\n",
       "    .dataframe tbody tr th:only-of-type {\n",
       "        vertical-align: middle;\n",
       "    }\n",
       "\n",
       "    .dataframe tbody tr th {\n",
       "        vertical-align: top;\n",
       "    }\n",
       "\n",
       "    .dataframe thead th {\n",
       "        text-align: right;\n",
       "    }\n",
       "</style>\n",
       "<table border=\"1\" class=\"dataframe\">\n",
       "  <thead>\n",
       "    <tr style=\"text-align: right;\">\n",
       "      <th></th>\n",
       "      <th>0</th>\n",
       "      <th>1</th>\n",
       "    </tr>\n",
       "  </thead>\n",
       "  <tbody>\n",
       "    <tr>\n",
       "      <th>0</th>\n",
       "      <td>2jtb69xt</td>\n",
       "      <td>2</td>\n",
       "    </tr>\n",
       "    <tr>\n",
       "      <th>1</th>\n",
       "      <td>2jtb69xv</td>\n",
       "      <td>1</td>\n",
       "    </tr>\n",
       "    <tr>\n",
       "      <th>2</th>\n",
       "      <td>2jtb69xy</td>\n",
       "      <td>1</td>\n",
       "    </tr>\n",
       "    <tr>\n",
       "      <th>3</th>\n",
       "      <td>2jtb6cb1</td>\n",
       "      <td>1</td>\n",
       "    </tr>\n",
       "    <tr>\n",
       "      <th>4</th>\n",
       "      <td>2jtb6cbc</td>\n",
       "      <td>1</td>\n",
       "    </tr>\n",
       "  </tbody>\n",
       "</table>\n",
       "</div>"
      ],
      "text/plain": [
       "          0  1\n",
       "0  2jtb69xt  2\n",
       "1  2jtb69xv  1\n",
       "2  2jtb69xy  1\n",
       "3  2jtb6cb1  1\n",
       "4  2jtb6cbc  1"
      ]
     },
     "execution_count": 54,
     "metadata": {},
     "output_type": "execute_result"
    }
   ],
   "source": [
    "counts_sample = counts.head()\n",
    "counts.head()"
   ]
  },
  {
   "cell_type": "code",
   "execution_count": 55,
   "metadata": {
    "ExecuteTime": {
     "end_time": "2019-01-08T20:05:13.342319Z",
     "start_time": "2019-01-08T20:05:13.305691Z"
    }
   },
   "outputs": [
    {
     "name": "stderr",
     "output_type": "stream",
     "text": [
      "/Users/bcoates/anaconda/lib/python3.6/site-packages/ipykernel_launcher.py:1: SettingWithCopyWarning: \n",
      "A value is trying to be set on a copy of a slice from a DataFrame.\n",
      "Try using .loc[row_indexer,col_indexer] = value instead\n",
      "\n",
      "See the caveats in the documentation: http://pandas.pydata.org/pandas-docs/stable/indexing.html#indexing-view-versus-copy\n",
      "  \"\"\"Entry point for launching an IPython kernel.\n"
     ]
    },
    {
     "data": {
      "text/html": [
       "<div>\n",
       "<style scoped>\n",
       "    .dataframe tbody tr th:only-of-type {\n",
       "        vertical-align: middle;\n",
       "    }\n",
       "\n",
       "    .dataframe tbody tr th {\n",
       "        vertical-align: top;\n",
       "    }\n",
       "\n",
       "    .dataframe thead th {\n",
       "        text-align: right;\n",
       "    }\n",
       "</style>\n",
       "<table border=\"1\" class=\"dataframe\">\n",
       "  <thead>\n",
       "    <tr style=\"text-align: right;\">\n",
       "      <th></th>\n",
       "      <th>0</th>\n",
       "      <th>1</th>\n",
       "      <th>new_col</th>\n",
       "    </tr>\n",
       "  </thead>\n",
       "  <tbody>\n",
       "    <tr>\n",
       "      <th>0</th>\n",
       "      <td>2jtb69xt</td>\n",
       "      <td>2</td>\n",
       "      <td>(2jtb69xt, 2)</td>\n",
       "    </tr>\n",
       "    <tr>\n",
       "      <th>1</th>\n",
       "      <td>2jtb69xv</td>\n",
       "      <td>1</td>\n",
       "      <td>(2jtb69xv, 1)</td>\n",
       "    </tr>\n",
       "    <tr>\n",
       "      <th>2</th>\n",
       "      <td>2jtb69xy</td>\n",
       "      <td>1</td>\n",
       "      <td>(2jtb69xy, 1)</td>\n",
       "    </tr>\n",
       "    <tr>\n",
       "      <th>3</th>\n",
       "      <td>2jtb6cb1</td>\n",
       "      <td>1</td>\n",
       "      <td>(2jtb6cb1, 1)</td>\n",
       "    </tr>\n",
       "    <tr>\n",
       "      <th>4</th>\n",
       "      <td>2jtb6cbc</td>\n",
       "      <td>1</td>\n",
       "      <td>(2jtb6cbc, 1)</td>\n",
       "    </tr>\n",
       "  </tbody>\n",
       "</table>\n",
       "</div>"
      ],
      "text/plain": [
       "          0  1        new_col\n",
       "0  2jtb69xt  2  (2jtb69xt, 2)\n",
       "1  2jtb69xv  1  (2jtb69xv, 1)\n",
       "2  2jtb69xy  1  (2jtb69xy, 1)\n",
       "3  2jtb6cb1  1  (2jtb6cb1, 1)\n",
       "4  2jtb6cbc  1  (2jtb6cbc, 1)"
      ]
     },
     "execution_count": 55,
     "metadata": {},
     "output_type": "execute_result"
    }
   ],
   "source": [
    "counts_sample['new_col'] = list(zip(counts_sample[0],counts_sample[1]))\n",
    "counts_sample"
   ]
  },
  {
   "cell_type": "code",
   "execution_count": 67,
   "metadata": {
    "ExecuteTime": {
     "end_time": "2019-01-08T20:09:05.374387Z",
     "start_time": "2019-01-08T20:09:05.369330Z"
    }
   },
   "outputs": [
    {
     "data": {
      "text/plain": [
       "[['2jtb69xt', 2],\n",
       " ['2jtb69xv', 1],\n",
       " ['2jtb69xy', 1],\n",
       " ['2jtb6cb1', 1],\n",
       " ['2jtb6cbc', 1]]"
      ]
     },
     "execution_count": 67,
     "metadata": {},
     "output_type": "execute_result"
    }
   ],
   "source": [
    "newlist = [[gh,ghc] for gh,ghc in counts_sample['new_col']]\n",
    "newlist"
   ]
  },
  {
   "cell_type": "code",
   "execution_count": 72,
   "metadata": {
    "ExecuteTime": {
     "end_time": "2019-01-08T20:09:51.715782Z",
     "start_time": "2019-01-08T20:09:51.711235Z"
    }
   },
   "outputs": [
    {
     "data": {
      "text/plain": [
       "'2jtb69xt'"
      ]
     },
     "execution_count": 72,
     "metadata": {},
     "output_type": "execute_result"
    }
   ],
   "source": [
    "gh = newlist[0][0]\n",
    "ghc = newlist[0][1]\n",
    "gh"
   ]
  },
  {
   "cell_type": "code",
   "execution_count": 73,
   "metadata": {
    "ExecuteTime": {
     "end_time": "2019-01-08T20:09:53.843368Z",
     "start_time": "2019-01-08T20:09:53.839099Z"
    }
   },
   "outputs": [
    {
     "data": {
      "text/plain": [
       "2"
      ]
     },
     "execution_count": 73,
     "metadata": {},
     "output_type": "execute_result"
    }
   ],
   "source": [
    "ghc"
   ]
  },
  {
   "cell_type": "code",
   "execution_count": 35,
   "metadata": {
    "ExecuteTime": {
     "end_time": "2019-01-08T19:05:48.783880Z",
     "start_time": "2019-01-08T19:05:48.461213Z"
    }
   },
   "outputs": [],
   "source": [
    "counts2 = counts.sort_values(by=[1], ascending=False)"
   ]
  },
  {
   "cell_type": "code",
   "execution_count": 36,
   "metadata": {
    "ExecuteTime": {
     "end_time": "2019-01-08T19:05:59.632884Z",
     "start_time": "2019-01-08T19:05:59.292186Z"
    }
   },
   "outputs": [],
   "source": [
    "write_geohash_layer(counts[0].head(10000))"
   ]
  },
  {
   "cell_type": "markdown",
   "metadata": {},
   "source": [
    "# Convert geohash to match shape of geojson"
   ]
  },
  {
   "cell_type": "code",
   "execution_count": 6,
   "metadata": {
    "ExecuteTime": {
     "end_time": "2019-01-08T18:14:32.811008Z",
     "start_time": "2019-01-08T18:14:32.415741Z"
    }
   },
   "outputs": [],
   "source": [
    "from shapely import geometry\n",
    "\n",
    "def compute_geohash_tiles_from_polygon(polygon, precision):\n",
    "    \"\"\"Computes all hex tile in the given polygon\n",
    "\n",
    "    :param polygon: the polygon\n",
    "    :return: a list of geohashes\n",
    "    \"\"\"\n",
    "\n",
    "    checked_geohashes = set()\n",
    "    geohash_stack = set()\n",
    "    geohashes = []\n",
    "    # get center of bounding, assuming the earth is flat ;)\n",
    "    center_latitude = polygon.centroid.coords[0][1]\n",
    "    center_longitude = polygon.centroid.coords[0][0]\n",
    "\n",
    "    center_geohash = geohash.encode(center_latitude, center_longitude, precision=precision)\n",
    "    geohashes.append(center_geohash)\n",
    "    geohash_stack.add(center_geohash)\n",
    "    checked_geohashes.add(center_geohash)\n",
    "    while len(geohash_stack) > 0:\n",
    "        current_geohash = geohash_stack.pop()\n",
    "        neighbors = geohash.neighbors(current_geohash)\n",
    "        for neighbor in neighbors:\n",
    "            point = geometry.Point(geohash.decode(neighbor)[::-1])\n",
    "            if neighbor not in checked_geohashes and polygon.contains(point):\n",
    "                geohashes.append(neighbor)\n",
    "                geohash_stack.add(neighbor)\n",
    "                checked_geohashes.add(neighbor)\n",
    "    return geohashes"
   ]
  },
  {
   "cell_type": "code",
   "execution_count": null,
   "metadata": {},
   "outputs": [],
   "source": []
  }
 ],
 "metadata": {
  "kernelspec": {
   "display_name": "Python 3",
   "language": "python",
   "name": "python3"
  },
  "language_info": {
   "codemirror_mode": {
    "name": "ipython",
    "version": 3
   },
   "file_extension": ".py",
   "mimetype": "text/x-python",
   "name": "python",
   "nbconvert_exporter": "python",
   "pygments_lexer": "ipython3",
   "version": "3.6.6"
  },
  "toc": {
   "base_numbering": 1,
   "nav_menu": {},
   "number_sections": true,
   "sideBar": true,
   "skip_h1_title": false,
   "title_cell": "Table of Contents",
   "title_sidebar": "Contents",
   "toc_cell": false,
   "toc_position": {},
   "toc_section_display": true,
   "toc_window_display": false
  },
  "varInspector": {
   "cols": {
    "lenName": 16,
    "lenType": 16,
    "lenVar": 40
   },
   "kernels_config": {
    "python": {
     "delete_cmd_postfix": "",
     "delete_cmd_prefix": "del ",
     "library": "var_list.py",
     "varRefreshCmd": "print(var_dic_list())"
    },
    "r": {
     "delete_cmd_postfix": ") ",
     "delete_cmd_prefix": "rm(",
     "library": "var_list.r",
     "varRefreshCmd": "cat(var_dic_list()) "
    }
   },
   "types_to_exclude": [
    "module",
    "function",
    "builtin_function_or_method",
    "instance",
    "_Feature"
   ],
   "window_display": false
  }
 },
 "nbformat": 4,
 "nbformat_minor": 2
}
